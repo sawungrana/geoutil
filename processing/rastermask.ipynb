{
 "cells": [
  {
   "cell_type": "markdown",
   "metadata": {},
   "source": [
    "## Raster Masking\n",
    "This code is made simply to mask any raster using polygon"
   ]
  },
  {
   "cell_type": "code",
   "execution_count": null,
   "metadata": {},
   "outputs": [],
   "source": [
    "# Installing required libraries\n",
    "# Skip if you have installed these libs\n",
    "%pip install rasterio geopandas"
   ]
  },
  {
   "cell_type": "code",
   "execution_count": null,
   "metadata": {},
   "outputs": [],
   "source": [
    "import rasterio\n",
    "from rasterio.mask import mask\n",
    "import geopandas as gpd"
   ]
  },
  {
   "cell_type": "code",
   "execution_count": null,
   "metadata": {},
   "outputs": [],
   "source": [
    "# Input data\n",
    "# This path is for files in the same folder as the code\n",
    "polypath = \"zwolle_gementee.geojson\" # Use any format recognized by geopandas\n",
    "rasterpath = \"zwolle_precipitation.tiff\" # Use any format recognized by rasterio"
   ]
  },
  {
   "cell_type": "code",
   "execution_count": null,
   "metadata": {},
   "outputs": [],
   "source": [
    "# VECTOR\n",
    "polygon_data = gpd.read_file(polypath)\n",
    "# Transform into EPSG:4326, comment out if you use other CRS\n",
    "if polygon_data.crs != \"EPSG:4326\":\n",
    "    polygon_data = polygon_data.to_crs(\"EPSG:4326\")"
   ]
  },
  {
   "cell_type": "code",
   "execution_count": null,
   "metadata": {},
   "outputs": [],
   "source": [
    "# RASTER\n",
    "with rasterio.open(rasterpath) as src:\n",
    "    # Masking the raster with the polygon\n",
    "    out_image, out_transform = mask(src, polygon_data.geometry, crop=True, all_touched=True, invert=False)\n",
    "    \n",
    "    # Update the metadata\n",
    "    out_meta = src.meta.copy()\n",
    "    out_meta.update({\n",
    "        \"driver\": \"GTiff\",\n",
    "        \"height\": out_image.shape[1],\n",
    "        \"width\": out_image.shape[2],\n",
    "        \"transform\": out_transform,\n",
    "        \"nodata\": src.nodata\n",
    "    })"
   ]
  },
  {
   "cell_type": "code",
   "execution_count": null,
   "metadata": {},
   "outputs": [],
   "source": [
    "# Saving\n",
    "maskedrasterpath = \"masked_raster.tif\" # Changed to your desired output path\n",
    "with rasterio.open(maskedrasterpath, \"w\", **out_meta) as dest:\n",
    "    dest.write(out_image)\n",
    "    \n",
    "print(\"Saved to:\", maskedrasterpath)"
   ]
  }
 ],
 "metadata": {
  "kernelspec": {
   "display_name": "mse",
   "language": "python",
   "name": "python3"
  },
  "language_info": {
   "codemirror_mode": {
    "name": "ipython",
    "version": 3
   },
   "file_extension": ".py",
   "mimetype": "text/x-python",
   "name": "python",
   "nbconvert_exporter": "python",
   "pygments_lexer": "ipython3",
   "version": "3.12.0"
  }
 },
 "nbformat": 4,
 "nbformat_minor": 2
}
