{
 "cells": [
  {
   "cell_type": "markdown",
   "metadata": {},
   "source": [
    "## Get OSM Data\n",
    "This code is made to get osm data through Overpass API. The result is in xml."
   ]
  },
  {
   "cell_type": "code",
   "execution_count": null,
   "metadata": {},
   "outputs": [],
   "source": [
    "import requests"
   ]
  },
  {
   "cell_type": "markdown",
   "metadata": {},
   "source": [
    "### Defining bounding box\n",
    "To get OSM Data we need to have coordinates of a square of the area.\n",
    "\n",
    "Format of the bounding box: “min_latitude, min_longitude, max_latitude, max_longitude”"
   ]
  },
  {
   "cell_type": "code",
   "execution_count": null,
   "metadata": {},
   "outputs": [],
   "source": [
    "# Define the bounding box\n",
    "# Format of the bounding box: “min_latitude, min_longitude, max_latitude, max_longitude”\n",
    "bbox = \"0.0097394039291600,32.4057359175773030,0.5085509362294360,32.7963300045455028\""
   ]
  },
  {
   "cell_type": "code",
   "execution_count": null,
   "metadata": {},
   "outputs": [],
   "source": [
    "# Construct the Overpass QL query, find your key value pairs through https://wiki.openstreetmap.org/wiki/Map_features\n",
    "# This is an xml request: '//' is for commenting out, ';' is for new line\n",
    "# For Overpass Query Language guideline you can read it through https://wiki.openstreetmap.org/wiki/Overpass_API/Language_Guide\n",
    "query = f\"\"\"\n",
    "[out:xml][timeout:25][bbox:{bbox}];\n",
    "(\n",
    "    // Built-Up\n",
    "    //way[\"building\"];\n",
    "    //relation[\"building\"];\n",
    "    // Greenspace\n",
    "    way[\"natural\"];\n",
    "    relation[\"natural\"];\n",
    "    // Grayspace (only highways for now, will convert to polygons later)\n",
    "    //way[\"highway\"~\"motorway|primary|secondary|tertiary\"];\n",
    "    // Water Bodies\n",
    "    //way[\"natural\"=\"water\"];\n",
    "    //relation[\"natural\"=\"water\"];\n",
    "    //way[\"landuse\"=\"basin\"];\n",
    "    //relation[\"landuse\"=\"basin\"];\n",
    ");\n",
    "(._;>;);\n",
    "out body;\n",
    "\"\"\""
   ]
  },
  {
   "cell_type": "code",
   "execution_count": null,
   "metadata": {},
   "outputs": [],
   "source": [
    "# URL to the Overpass API\n",
    "url = \"http://overpass-api.de/api/interpreter\"\n",
    "\n",
    "# Send the request and get the response\n",
    "response = requests.get(url, params={'data': query})"
   ]
  },
  {
   "cell_type": "code",
   "execution_count": null,
   "metadata": {},
   "outputs": [],
   "source": [
    "# Check if the request was successful\n",
    "if response.status_code == 200:\n",
    "    # Write response content to an XML file\n",
    "    with open('osm_data_builtup.xml', 'wb') as file: # Adjust the name as you want\n",
    "        file.write(response.content)\n",
    "    print(\"Data has been written to osm_data_builtup.xml\")\n",
    "else:\n",
    "    print(\"Error:\", response.status_code, response.reason)"
   ]
  }
 ],
 "metadata": {
  "language_info": {
   "name": "python"
  }
 },
 "nbformat": 4,
 "nbformat_minor": 2
}
