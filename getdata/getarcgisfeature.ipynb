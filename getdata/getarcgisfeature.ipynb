{
 "cells": [
  {
   "cell_type": "markdown",
   "metadata": {},
   "source": [
    "## Get ArcGIS Feature\n",
    "We often see ArcGIS feature service but cannot get the data. So here is the code to make your life easier."
   ]
  },
  {
   "cell_type": "code",
   "execution_count": null,
   "metadata": {},
   "outputs": [],
   "source": [
    "import requests\n",
    "import geopandas as gpd"
   ]
  },
  {
   "cell_type": "code",
   "execution_count": null,
   "metadata": {},
   "outputs": [],
   "source": [
    "# ArcGIS FeatureServer endpoint\n",
    "url = \"https://services1.arcgis.com/3YlK2vfHGZtonb1r/arcgis/rest/services/Zonnepanelen_Zwolle/FeatureServer/0/query\""
   ]
  },
  {
   "cell_type": "code",
   "execution_count": null,
   "metadata": {},
   "outputs": [],
   "source": [
    "# Query params to fetch data in GeoJSON\n",
    "params = {\n",
    "    'where': '1=1',  # This condition effectively selects all features\n",
    "    'outFields': '*',  # Select all fields\n",
    "    'outSR': '4326',  # Request data in WGS 84 coordinate reference system\n",
    "    'f': 'geojson'  # Request output format as GeoJSON\n",
    "}\n",
    "\n",
    "# Send request\n",
    "response = requests.get(url, params=params)"
   ]
  },
  {
   "cell_type": "code",
   "execution_count": null,
   "metadata": {},
   "outputs": [],
   "source": [
    "# Check if the request was successful\n",
    "if response.status_code == 200:\n",
    "    data = response.json()  # Parse GeoJSON\n",
    "    \n",
    "    # Convert GeoJSON to GDF\n",
    "    gdf = gpd.GeoDataFrame.from_features(data)\n",
    "    \n",
    "    # Output path for gpkg\n",
    "    output_path = \"zonnepanelen_zwolle.gpkg\" # Adjust the name as you want\n",
    "    \n",
    "    # Export GDF to gpkg\n",
    "    gdf.to_file(output_path, driver=\"GPKG\")\n",
    "    \n",
    "    print(f\"Data exported to: {output_path}\")\n",
    "else:\n",
    "    print(\"Failed to fetch data:\", response.status_code)\n"
   ]
  }
 ],
 "metadata": {
  "language_info": {
   "name": "python"
  }
 },
 "nbformat": 4,
 "nbformat_minor": 2
}
